{
 "cells": [
  {
   "cell_type": "code",
   "execution_count": null,
   "metadata": {},
   "outputs": [],
   "source": [
    "from app.lib.langs.ag.lexicon import LsjEntry\n",
    "\n",
    "\n",
    "defs = LsjEntry.find(LsjEntry.lemma == \"πρύμνᾰ\").all()"
   ]
  }
 ],
 "metadata": {
  "language_info": {
   "name": "python"
  },
  "orig_nbformat": 4
 },
 "nbformat": 4,
 "nbformat_minor": 2
}
